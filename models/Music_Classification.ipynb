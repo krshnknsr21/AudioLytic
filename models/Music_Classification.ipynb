{
  "cells": [
    {
      "cell_type": "code",
      "execution_count": 1,
      "metadata": {
        "id": "llwROT7RBzHw"
      },
      "outputs": [
        {
          "name": "stderr",
          "output_type": "stream",
          "text": [
            "Using TensorFlow backend.\n"
          ]
        },
        {
          "name": "stdout",
          "output_type": "stream",
          "text": [
            "WARNING:tensorflow:From C:\\Users\\krazy\\anaconda3\\envs\\machine_learning\\lib\\site-packages\\tensorflow_core\\python\\compat\\v2_compat.py:88: disable_resource_variables (from tensorflow.python.ops.variable_scope) is deprecated and will be removed in a future version.\n",
            "Instructions for updating:\n",
            "non-resource variables are not supported in the long term\n"
          ]
        }
      ],
      "source": [
        "#Script to obtain data \n",
        "import numpy as np \n",
        "import pandas as pd \n",
        "import matplotlib.pyplot as plt\n",
        "import seaborn as sns\n",
        "\n",
        "#Libraries to create the multiclass model\n",
        "from keras.models import Sequential\n",
        "from keras.layers import Dense\n",
        "from keras.wrappers.scikit_learn import KerasClassifier\n",
        "from keras.utils import np_utils\n",
        "#Import tensorflow and disable the v2 behavior and eager mode\n",
        "import tensorflow as tf\n",
        "tf.compat.v1.disable_eager_execution()\n",
        "tf.compat.v1.disable_v2_behavior()\n",
        "\n",
        "#Library to validate the model\n",
        "from sklearn.model_selection import cross_val_score, KFold, train_test_split\n",
        "from sklearn.preprocessing import LabelEncoder,MinMaxScaler\n",
        "from sklearn.pipeline import Pipeline\n",
        "from sklearn.metrics import confusion_matrix, accuracy_score"
      ]
    },
    {
      "cell_type": "code",
      "execution_count": 2,
      "metadata": {},
      "outputs": [],
      "source": [
        "df = pd.read_csv(\"C:/Users/Krishna/Mini Project/Sem-6/Music_Recommentdation_ML/datasets/data_moods.csv\")"
      ]
    },
    {
      "cell_type": "code",
      "execution_count": 3,
      "metadata": {
        "id": "nWrv1mpNCYVj"
      },
      "outputs": [],
      "source": [
        "col_features = df.columns[6:-3]\n",
        "X= MinMaxScaler().fit_transform(df[col_features])\n",
        "X2 = np.array(df[col_features])\n",
        "Y = df['mood']"
      ]
    },
    {
      "cell_type": "code",
      "execution_count": 4,
      "metadata": {
        "id": "Lzk9Mf0xCaJ-"
      },
      "outputs": [],
      "source": [
        "#Encodethe categories\n",
        "encoder = LabelEncoder()\n",
        "encoder.fit(Y)\n",
        "encoded_y = encoder.transform(Y)"
      ]
    },
    {
      "cell_type": "code",
      "execution_count": 5,
      "metadata": {
        "colab": {
          "base_uri": "https://localhost:8080/",
          "height": 175
        },
        "id": "mB6EyQfbCeiK",
        "outputId": "ab21a713-d555-44a7-d170-fcab73dc4fc7"
      },
      "outputs": [
        {
          "data": {
            "text/html": [
              "<div>\n",
              "<style scoped>\n",
              "    .dataframe tbody tr th:only-of-type {\n",
              "        vertical-align: middle;\n",
              "    }\n",
              "\n",
              "    .dataframe tbody tr th {\n",
              "        vertical-align: top;\n",
              "    }\n",
              "\n",
              "    .dataframe thead th {\n",
              "        text-align: right;\n",
              "    }\n",
              "</style>\n",
              "<table border=\"1\" class=\"dataframe\">\n",
              "  <thead>\n",
              "    <tr style=\"text-align: right;\">\n",
              "      <th></th>\n",
              "      <th>mood</th>\n",
              "      <th>encode</th>\n",
              "    </tr>\n",
              "  </thead>\n",
              "  <tbody>\n",
              "    <tr>\n",
              "      <th>5</th>\n",
              "      <td>Calm</td>\n",
              "      <td>0</td>\n",
              "    </tr>\n",
              "    <tr>\n",
              "      <th>4</th>\n",
              "      <td>Energetic</td>\n",
              "      <td>1</td>\n",
              "    </tr>\n",
              "    <tr>\n",
              "      <th>0</th>\n",
              "      <td>Happy</td>\n",
              "      <td>2</td>\n",
              "    </tr>\n",
              "    <tr>\n",
              "      <th>1</th>\n",
              "      <td>Sad</td>\n",
              "      <td>3</td>\n",
              "    </tr>\n",
              "  </tbody>\n",
              "</table>\n",
              "</div>"
            ],
            "text/plain": [
              "        mood  encode\n",
              "5       Calm       0\n",
              "4  Energetic       1\n",
              "0      Happy       2\n",
              "1        Sad       3"
            ]
          },
          "execution_count": 5,
          "metadata": {},
          "output_type": "execute_result"
        }
      ],
      "source": [
        "#To get consistent output \n",
        "np.random.seed(45)\n",
        "\n",
        "X_train,X_test,Y_train,Y_test = train_test_split(X,encoded_y,test_size=0.15,random_state=20)\n",
        "\n",
        "target = pd.DataFrame({'mood':df['mood'].tolist(),'encode':encoded_y}).drop_duplicates().sort_values(['encode'],ascending=True)\n",
        "target"
      ]
    },
    {
      "cell_type": "code",
      "execution_count": 27,
      "metadata": {
        "id": "c5iHuRVrCgra"
      },
      "outputs": [],
      "source": [
        "def base_model():\n",
        "    #Create the model\n",
        "    model = Sequential()\n",
        "    #Add 1 layer with 8 nodes,input of 10 dim with relu function\n",
        "    model.add(Dense(10,input_dim=10,activation='relu'))\n",
        "    #Add 1 layer with 8 nodes,input of 10 dim with relu function\n",
        "    model.add(Dense(8,input_dim=10,activation='relu'))\n",
        "    #Add 1 layer with output 3 and softmax function\n",
        "    model.add(Dense(4,activation='softmax'))\n",
        "    #Compile the model using sigmoid loss function and adam optim\n",
        "    model.compile(loss='categorical_crossentropy',optimizer='adam',\n",
        "                 metrics=['accuracy'])\n",
        "    return model"
      ]
    },
    {
      "cell_type": "code",
      "execution_count": 28,
      "metadata": {
        "colab": {
          "base_uri": "https://localhost:8080/"
        },
        "id": "uZaLKdP1CjOu",
        "outputId": "7ab10cd8-5bc9-4c8e-de83-8c91ade86f6f"
      },
      "outputs": [],
      "source": [
        "estimator = KerasClassifier(build_fn=base_model,epochs=350,batch_size=160,verbose=0)"
      ]
    },
    {
      "cell_type": "code",
      "execution_count": 29,
      "metadata": {
        "colab": {
          "base_uri": "https://localhost:8080/"
        },
        "id": "429xXXHfClQ6",
        "outputId": "18aa2ea0-cf00-4f77-adf2-f5f78a73b552"
      },
      "outputs": [
        {
          "name": "stdout",
          "output_type": "stream",
          "text": [
            "Baseline: 80.74% (3.57%)\n"
          ]
        }
      ],
      "source": [
        "#Evaluate the model using KFold cross validation\n",
        "kfold = KFold(n_splits=10,shuffle=True)\n",
        "results = cross_val_score(estimator,X,encoded_y,cv=kfold)\n",
        "print(\"Baseline: %.2f%% (%.2f%%)\" % (results.mean()*100,results.std()*100))"
      ]
    },
    {
      "cell_type": "code",
      "execution_count": 30,
      "metadata": {
        "colab": {
          "base_uri": "https://localhost:8080/"
        },
        "id": "aDigUGNPCm_2",
        "outputId": "0d29b018-ccc7-4bec-bb53-e6daec4b9a70"
      },
      "outputs": [],
      "source": [
        "estimator.fit(X_train,Y_train)\n",
        "y_preds = estimator.predict(X_test)"
      ]
    },
    {
      "cell_type": "code",
      "execution_count": 31,
      "metadata": {},
      "outputs": [
        {
          "data": {
            "text/plain": [
              "Pipeline(steps=[('minmaxscaler', MinMaxScaler()),\n",
              "                ('keras',\n",
              "                 <keras.wrappers.scikit_learn.KerasClassifier object at 0x0000015C11350248>)])"
            ]
          },
          "execution_count": 31,
          "metadata": {},
          "output_type": "execute_result"
        }
      ],
      "source": [
        "pip = Pipeline([('minmaxscaler',MinMaxScaler()),('keras',KerasClassifier(build_fn=base_model,epochs=350,\n",
        "                                                                             batch_size=160,verbose=0))])\n",
        "    #Fit the Pipeline\n",
        "pip.fit(X2,encoded_y)"
      ]
    },
    {
      "cell_type": "code",
      "execution_count": 32,
      "metadata": {
        "colab": {
          "base_uri": "https://localhost:8080/",
          "height": 312
        },
        "id": "WeSx39ZwC183",
        "outputId": "9e616b2f-ca51-4363-ce6a-6f88465d631e"
      },
      "outputs": [
        {
          "data": {
            "image/png": "[encoded data removed]",
            "text/plain": [
              "<Figure size 432x288 with 2 Axes>"
            ]
          },
          "metadata": {
            "needs_background": "light"
          },
          "output_type": "display_data"
        },
        {
          "name": "stdout",
          "output_type": "stream",
          "text": [
            "Accuracy Score 0.8543689320388349\n"
          ]
        }
      ],
      "source": [
        "cm = confusion_matrix(Y_test,y_preds)\n",
        "ax = plt.subplot()\n",
        "sns.heatmap(cm,annot=True,ax=ax)\n",
        "\n",
        "labels = target['mood']\n",
        "ax.set_xlabel('Predicted labels')\n",
        "ax.set_ylabel('True labels')\n",
        "ax.set_title('Confusion Matrix')\n",
        "ax.xaxis.set_ticklabels(labels)\n",
        "ax.yaxis.set_ticklabels(labels)\n",
        "plt.show()\n",
        "\n",
        "print(\"Accuracy Score\",accuracy_score(Y_test,y_preds))"
      ]
    },
    {
      "cell_type": "code",
      "execution_count": 33,
      "metadata": {
        "id": "FCNdzDRJC5zO"
      },
      "outputs": [],
      "source": [
        "def predict_mood(id_song):\n",
        "    #Obtain the features of the song\n",
        "    preds = id_song\n",
        "    #Pre-process the features to input the Model\n",
        "    preds_features = np.array(preds[0][6:-2]).reshape(-1,1).T\n",
        "\n",
        "    #Predict the features of the song\n",
        "    results = pip.predict(preds_features)\n",
        "\n",
        "    mood = np.array(target['mood'][target['encode']==int(results)])\n",
        "    name_song = preds[0][0]\n",
        "    artist = preds[0][2]\n",
        "\n",
        "    return print(\"{0} by {1} is a {2} song\".format(name_song,artist,mood[0].upper()))\n",
        "    #print(f\"{name_song} by {artist} is a {mood[0].upper()} song\")\n",
        "    "
      ]
    },
    {
      "cell_type": "code",
      "execution_count": 34,
      "metadata": {
        "colab": {
          "base_uri": "https://localhost:8080/",
          "height": 722
        },
        "id": "HyJTp-QPUEr6",
        "outputId": "361a2261-9cf1-41ef-b0e6-1547113cadf9"
      },
      "outputs": [
        {
          "data": {
            "text/html": [
              "<div>\n",
              "<style scoped>\n",
              "    .dataframe tbody tr th:only-of-type {\n",
              "        vertical-align: middle;\n",
              "    }\n",
              "\n",
              "    .dataframe tbody tr th {\n",
              "        vertical-align: top;\n",
              "    }\n",
              "\n",
              "    .dataframe thead th {\n",
              "        text-align: right;\n",
              "    }\n",
              "</style>\n",
              "<table border=\"1\" class=\"dataframe\">\n",
              "  <thead>\n",
              "    <tr style=\"text-align: right;\">\n",
              "      <th></th>\n",
              "      <th>name</th>\n",
              "      <th>album</th>\n",
              "      <th>artist</th>\n",
              "      <th>id</th>\n",
              "      <th>release_date</th>\n",
              "      <th>popularity</th>\n",
              "      <th>length</th>\n",
              "      <th>danceability</th>\n",
              "      <th>acousticness</th>\n",
              "      <th>energy</th>\n",
              "      <th>instrumentalness</th>\n",
              "      <th>liveness</th>\n",
              "      <th>valence</th>\n",
              "      <th>loudness</th>\n",
              "      <th>speechiness</th>\n",
              "      <th>tempo</th>\n",
              "      <th>key</th>\n",
              "      <th>time_signature</th>\n",
              "      <th>mood</th>\n",
              "    </tr>\n",
              "  </thead>\n",
              "  <tbody>\n",
              "    <tr>\n",
              "      <th>0</th>\n",
              "      <td>1999</td>\n",
              "      <td>1999</td>\n",
              "      <td>Prince</td>\n",
              "      <td>2H7PHVdQ3mXqEHXcvclTB0</td>\n",
              "      <td>1982-10-27</td>\n",
              "      <td>68</td>\n",
              "      <td>379266</td>\n",
              "      <td>0.866</td>\n",
              "      <td>0.137000</td>\n",
              "      <td>0.7300</td>\n",
              "      <td>0.000000</td>\n",
              "      <td>0.0843</td>\n",
              "      <td>0.625</td>\n",
              "      <td>-8.201</td>\n",
              "      <td>0.0767</td>\n",
              "      <td>118.523</td>\n",
              "      <td>5</td>\n",
              "      <td>4</td>\n",
              "      <td>Happy</td>\n",
              "    </tr>\n",
              "    <tr>\n",
              "      <th>1</th>\n",
              "      <td>23</td>\n",
              "      <td>23</td>\n",
              "      <td>Blonde Redhead</td>\n",
              "      <td>4HIwL9ii9CcXpTOTzMq0MP</td>\n",
              "      <td>2007-04-16</td>\n",
              "      <td>43</td>\n",
              "      <td>318800</td>\n",
              "      <td>0.381</td>\n",
              "      <td>0.018900</td>\n",
              "      <td>0.8320</td>\n",
              "      <td>0.196000</td>\n",
              "      <td>0.1530</td>\n",
              "      <td>0.166</td>\n",
              "      <td>-5.069</td>\n",
              "      <td>0.0492</td>\n",
              "      <td>120.255</td>\n",
              "      <td>8</td>\n",
              "      <td>4</td>\n",
              "      <td>Sad</td>\n",
              "    </tr>\n",
              "    <tr>\n",
              "      <th>2</th>\n",
              "      <td>9 Crimes</td>\n",
              "      <td>9</td>\n",
              "      <td>Damien Rice</td>\n",
              "      <td>5GZEeowhvSieFDiR8fQ2im</td>\n",
              "      <td>2006-11-06</td>\n",
              "      <td>60</td>\n",
              "      <td>217946</td>\n",
              "      <td>0.346</td>\n",
              "      <td>0.913000</td>\n",
              "      <td>0.1390</td>\n",
              "      <td>0.000077</td>\n",
              "      <td>0.0934</td>\n",
              "      <td>0.116</td>\n",
              "      <td>-15.326</td>\n",
              "      <td>0.0321</td>\n",
              "      <td>136.168</td>\n",
              "      <td>0</td>\n",
              "      <td>4</td>\n",
              "      <td>Sad</td>\n",
              "    </tr>\n",
              "    <tr>\n",
              "      <th>3</th>\n",
              "      <td>99 Luftballons</td>\n",
              "      <td>99 Luftballons</td>\n",
              "      <td>Nena</td>\n",
              "      <td>6HA97v4wEGQ5TUClRM0XLc</td>\n",
              "      <td>1984-08-21</td>\n",
              "      <td>2</td>\n",
              "      <td>233000</td>\n",
              "      <td>0.466</td>\n",
              "      <td>0.089000</td>\n",
              "      <td>0.4380</td>\n",
              "      <td>0.000006</td>\n",
              "      <td>0.1130</td>\n",
              "      <td>0.587</td>\n",
              "      <td>-12.858</td>\n",
              "      <td>0.0608</td>\n",
              "      <td>193.100</td>\n",
              "      <td>4</td>\n",
              "      <td>4</td>\n",
              "      <td>Happy</td>\n",
              "    </tr>\n",
              "    <tr>\n",
              "      <th>4</th>\n",
              "      <td>A Boy Brushed Red Living In Black And White</td>\n",
              "      <td>They're Only Chasing Safety</td>\n",
              "      <td>Underoath</td>\n",
              "      <td>47IWLfIKOKhFnz1FUEUIkE</td>\n",
              "      <td>2004-01-01</td>\n",
              "      <td>60</td>\n",
              "      <td>268000</td>\n",
              "      <td>0.419</td>\n",
              "      <td>0.001710</td>\n",
              "      <td>0.9320</td>\n",
              "      <td>0.000000</td>\n",
              "      <td>0.1370</td>\n",
              "      <td>0.445</td>\n",
              "      <td>-3.604</td>\n",
              "      <td>0.1060</td>\n",
              "      <td>169.881</td>\n",
              "      <td>1</td>\n",
              "      <td>4</td>\n",
              "      <td>Energetic</td>\n",
              "    </tr>\n",
              "    <tr>\n",
              "      <th>5</th>\n",
              "      <td>A Burden to Bear</td>\n",
              "      <td>A Burden to Bear</td>\n",
              "      <td>Emmanuelle Rimbaud</td>\n",
              "      <td>67DOFCrkcQaLp5yhzF8Y8N</td>\n",
              "      <td>2020-07-31</td>\n",
              "      <td>27</td>\n",
              "      <td>129410</td>\n",
              "      <td>0.394</td>\n",
              "      <td>0.995000</td>\n",
              "      <td>0.0475</td>\n",
              "      <td>0.955000</td>\n",
              "      <td>0.1050</td>\n",
              "      <td>0.172</td>\n",
              "      <td>-26.432</td>\n",
              "      <td>0.0720</td>\n",
              "      <td>71.241</td>\n",
              "      <td>6</td>\n",
              "      <td>5</td>\n",
              "      <td>Calm</td>\n",
              "    </tr>\n",
              "    <tr>\n",
              "      <th>6</th>\n",
              "      <td>A La Plage</td>\n",
              "      <td>A La Plage</td>\n",
              "      <td>Ron Adelaar</td>\n",
              "      <td>79NmiFAgcXUIVDGfCWDdWF</td>\n",
              "      <td>2020-08-07</td>\n",
              "      <td>29</td>\n",
              "      <td>141888</td>\n",
              "      <td>0.504</td>\n",
              "      <td>0.994000</td>\n",
              "      <td>0.0584</td>\n",
              "      <td>0.956000</td>\n",
              "      <td>0.1150</td>\n",
              "      <td>0.553</td>\n",
              "      <td>-20.461</td>\n",
              "      <td>0.0516</td>\n",
              "      <td>134.209</td>\n",
              "      <td>5</td>\n",
              "      <td>4</td>\n",
              "      <td>Calm</td>\n",
              "    </tr>\n",
              "    <tr>\n",
              "      <th>7</th>\n",
              "      <td>A Little Less Conversation - JXL Radio Edit Remix</td>\n",
              "      <td>Elvis 75 - Good Rockin' Tonight</td>\n",
              "      <td>Elvis Presley</td>\n",
              "      <td>4l2hnfUx0esSbITQa7iJt0</td>\n",
              "      <td>2009-12-28</td>\n",
              "      <td>1</td>\n",
              "      <td>211173</td>\n",
              "      <td>0.586</td>\n",
              "      <td>0.000155</td>\n",
              "      <td>0.9350</td>\n",
              "      <td>0.277000</td>\n",
              "      <td>0.1590</td>\n",
              "      <td>0.580</td>\n",
              "      <td>-9.386</td>\n",
              "      <td>0.0482</td>\n",
              "      <td>114.997</td>\n",
              "      <td>4</td>\n",
              "      <td>4</td>\n",
              "      <td>Happy</td>\n",
              "    </tr>\n",
              "    <tr>\n",
              "      <th>8</th>\n",
              "      <td>A Place for My Head</td>\n",
              "      <td>Hybrid Theory (Bonus Edition)</td>\n",
              "      <td>Linkin Park</td>\n",
              "      <td>5rAxhWcgFng3s570sGO2F8</td>\n",
              "      <td>2000-10-24</td>\n",
              "      <td>68</td>\n",
              "      <td>184640</td>\n",
              "      <td>0.603</td>\n",
              "      <td>0.014400</td>\n",
              "      <td>0.9080</td>\n",
              "      <td>0.000000</td>\n",
              "      <td>0.6710</td>\n",
              "      <td>0.457</td>\n",
              "      <td>-5.254</td>\n",
              "      <td>0.1840</td>\n",
              "      <td>133.063</td>\n",
              "      <td>11</td>\n",
              "      <td>4</td>\n",
              "      <td>Energetic</td>\n",
              "    </tr>\n",
              "    <tr>\n",
              "      <th>9</th>\n",
              "      <td>ATTACK</td>\n",
              "      <td>A Beautiful Lie + 30 Seconds To Mars</td>\n",
              "      <td>Thirty Seconds To Mars</td>\n",
              "      <td>6QxTWEvzcJljVZaeTzuHF1</td>\n",
              "      <td>2007-05-15</td>\n",
              "      <td>0</td>\n",
              "      <td>189200</td>\n",
              "      <td>0.331</td>\n",
              "      <td>0.003440</td>\n",
              "      <td>0.8760</td>\n",
              "      <td>0.000835</td>\n",
              "      <td>0.7320</td>\n",
              "      <td>0.299</td>\n",
              "      <td>-1.894</td>\n",
              "      <td>0.0603</td>\n",
              "      <td>175.009</td>\n",
              "      <td>5</td>\n",
              "      <td>4</td>\n",
              "      <td>Energetic</td>\n",
              "    </tr>\n",
              "  </tbody>\n",
              "</table>\n",
              "</div>"
            ],
            "text/plain": [
              "                                                name  \\\n",
              "0                                               1999   \n",
              "1                                                 23   \n",
              "2                                           9 Crimes   \n",
              "3                                     99 Luftballons   \n",
              "4        A Boy Brushed Red Living In Black And White   \n",
              "5                                   A Burden to Bear   \n",
              "6                                         A La Plage   \n",
              "7  A Little Less Conversation - JXL Radio Edit Remix   \n",
              "8                                A Place for My Head   \n",
              "9                                             ATTACK   \n",
              "\n",
              "                                  album                  artist  \\\n",
              "0                                  1999                  Prince   \n",
              "1                                    23          Blonde Redhead   \n",
              "2                                     9             Damien Rice   \n",
              "3                        99 Luftballons                    Nena   \n",
              "4           They're Only Chasing Safety               Underoath   \n",
              "5                      A Burden to Bear      Emmanuelle Rimbaud   \n",
              "6                            A La Plage             Ron Adelaar   \n",
              "7       Elvis 75 - Good Rockin' Tonight           Elvis Presley   \n",
              "8         Hybrid Theory (Bonus Edition)             Linkin Park   \n",
              "9  A Beautiful Lie + 30 Seconds To Mars  Thirty Seconds To Mars   \n",
              "\n",
              "                       id release_date  popularity  length  danceability  \\\n",
              "0  2H7PHVdQ3mXqEHXcvclTB0   1982-10-27          68  379266         0.866   \n",
              "1  4HIwL9ii9CcXpTOTzMq0MP   2007-04-16          43  318800         0.381   \n",
              "2  5GZEeowhvSieFDiR8fQ2im   2006-11-06          60  217946         0.346   \n",
              "3  6HA97v4wEGQ5TUClRM0XLc   1984-08-21           2  233000         0.466   \n",
              "4  47IWLfIKOKhFnz1FUEUIkE   2004-01-01          60  268000         0.419   \n",
              "5  67DOFCrkcQaLp5yhzF8Y8N   2020-07-31          27  129410         0.394   \n",
              "6  79NmiFAgcXUIVDGfCWDdWF   2020-08-07          29  141888         0.504   \n",
              "7  4l2hnfUx0esSbITQa7iJt0   2009-12-28           1  211173         0.586   \n",
              "8  5rAxhWcgFng3s570sGO2F8   2000-10-24          68  184640         0.603   \n",
              "9  6QxTWEvzcJljVZaeTzuHF1   2007-05-15           0  189200         0.331   \n",
              "\n",
              "   acousticness  energy  instrumentalness  liveness  valence  loudness  \\\n",
              "0      0.137000  0.7300          0.000000    0.0843    0.625    -8.201   \n",
              "1      0.018900  0.8320          0.196000    0.1530    0.166    -5.069   \n",
              "2      0.913000  0.1390          0.000077    0.0934    0.116   -15.326   \n",
              "3      0.089000  0.4380          0.000006    0.1130    0.587   -12.858   \n",
              "4      0.001710  0.9320          0.000000    0.1370    0.445    -3.604   \n",
              "5      0.995000  0.0475          0.955000    0.1050    0.172   -26.432   \n",
              "6      0.994000  0.0584          0.956000    0.1150    0.553   -20.461   \n",
              "7      0.000155  0.9350          0.277000    0.1590    0.580    -9.386   \n",
              "8      0.014400  0.9080          0.000000    0.6710    0.457    -5.254   \n",
              "9      0.003440  0.8760          0.000835    0.7320    0.299    -1.894   \n",
              "\n",
              "   speechiness    tempo  key  time_signature       mood  \n",
              "0       0.0767  118.523    5               4      Happy  \n",
              "1       0.0492  120.255    8               4        Sad  \n",
              "2       0.0321  136.168    0               4        Sad  \n",
              "3       0.0608  193.100    4               4      Happy  \n",
              "4       0.1060  169.881    1               4  Energetic  \n",
              "5       0.0720   71.241    6               5       Calm  \n",
              "6       0.0516  134.209    5               4       Calm  \n",
              "7       0.0482  114.997    4               4      Happy  \n",
              "8       0.1840  133.063   11               4  Energetic  \n",
              "9       0.0603  175.009    5               4  Energetic  "
            ]
          },
          "execution_count": 34,
          "metadata": {},
          "output_type": "execute_result"
        }
      ],
      "source": [
        "df.head(10)"
      ]
    },
    {
      "cell_type": "code",
      "execution_count": 35,
      "metadata": {
        "colab": {
          "base_uri": "https://localhost:8080/"
        },
        "id": "SrxzBykHVa0C",
        "outputId": "73c691f1-a745-4172-ce77-6f7443ba880c"
      },
      "outputs": [
        {
          "data": {
            "text/plain": [
              "name                            Breathe Me\n",
              "album                 Colour The Small One\n",
              "artist                                 Sia\n",
              "id                  7jqzZyJJLrpkRFYGpkqSK6\n",
              "release_date                    2004-01-01\n",
              "popularity                              68\n",
              "length                              272800\n",
              "danceability                         0.552\n",
              "acousticness                        0.0364\n",
              "energy                               0.643\n",
              "instrumentalness                      0.74\n",
              "liveness                             0.105\n",
              "valence                              0.212\n",
              "loudness                             -7.36\n",
              "speechiness                         0.0327\n",
              "tempo                              120.012\n",
              "key                                      0\n",
              "time_signature                           4\n",
              "mood                                   Sad\n",
              "Name: 80, dtype: object"
            ]
          },
          "execution_count": 35,
          "metadata": {},
          "output_type": "execute_result"
        }
      ],
      "source": [
        "df.iloc[80]"
      ]
    },
    {
      "cell_type": "code",
      "execution_count": 43,
      "metadata": {
        "colab": {
          "base_uri": "https://localhost:8080/"
        },
        "id": "8TRY1hgCDB7S",
        "outputId": "48c049f8-19b0-40cb-d721-0bde8756cc64"
      },
      "outputs": [
        {
          "name": "stdout",
          "output_type": "stream",
          "text": [
            "Energetic\n",
            "Chop Suey! by System Of A Down is a ENERGETIC song\n"
          ]
        }
      ],
      "source": [
        "x = df.iloc[91].values.flatten().tolist()\n",
        "print(x.pop())\n",
        "column_name = ['name','album','artist','id','release_date','popularity','length','danceability','acousticness','energy','instrumentalness',\n",
        "                'liveness','valence','loudness','speechiness','tempo','key','time_signature']\n",
        "song_input = [x, column_name]\n",
        "# song_input\n",
        "predict_mood(song_input)"
      ]
    },
    {
      "cell_type": "code",
      "execution_count": null,
      "metadata": {},
      "outputs": [],
      "source": [
        "# pip.save('C:/Users/Krishna/Mini Project/Sem-6/MusicRecommentdationML/models/music_classification.h5')"
      ]
    }
  ],
  "metadata": {
    "colab": {
      "collapsed_sections": [],
      "name": "Music Classification.ipynb",
      "provenance": []
    },
    "kernelspec": {
      "display_name": "Python 3",
      "name": "python3"
    },
    "language_info": {
      "codemirror_mode": {
        "name": "ipython",
        "version": 3
      },
      "file_extension": ".py",
      "mimetype": "text/x-python",
      "name": "python",
      "nbconvert_exporter": "python",
      "pygments_lexer": "ipython3",
      "version": "3.7.11"
    }
  },
  "nbformat": 4,
  "nbformat_minor": 0
}
