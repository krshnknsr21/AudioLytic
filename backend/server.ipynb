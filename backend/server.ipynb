{
 "cells": [
  {
   "cell_type": "code",
   "execution_count": 4,
   "metadata": {},
   "outputs": [
    {
     "name": "stdout",
     "output_type": "stream",
     "text": [
      " * Serving Flask app \"__main__\" (lazy loading)\n",
      " * Environment: production\n",
      "\u001b[31m   WARNING: This is a development server. Do not use it in a production deployment.\u001b[0m\n",
      "\u001b[2m   Use a production WSGI server instead.\u001b[0m\n",
      " * Debug mode: off\n"
     ]
    },
    {
     "name": "stderr",
     "output_type": "stream",
     "text": [
      " * Running on http://127.0.0.1:5000/ (Press CTRL+C to quit)\n",
      "127.0.0.1 - - [29/Mar/2022 13:20:08] \"\u001b[37mGET /getmood?input=i%20am%20exhausted HTTP/1.1\u001b[0m\" 200 -\n"
     ]
    },
    {
     "name": "stdout",
     "output_type": "stream",
     "text": [
      "['i am exhausted']\n",
      "[[0.17522897 0.01076579 0.00910508 0.8049002 ]]\n",
      "Sad\n"
     ]
    },
    {
     "name": "stderr",
     "output_type": "stream",
     "text": [
      "127.0.0.1 - - [29/Mar/2022 13:20:09] \"\u001b[37mGET /getmood?input=i%20am%20exhausted HTTP/1.1\u001b[0m\" 200 -\n"
     ]
    },
    {
     "name": "stdout",
     "output_type": "stream",
     "text": [
      "['i am exhausted']\n",
      "[[0.17522897 0.01076579 0.00910508 0.8049002 ]]\n",
      "Sad\n"
     ]
    },
    {
     "name": "stderr",
     "output_type": "stream",
     "text": [
      "127.0.0.1 - - [29/Mar/2022 13:48:42] \"\u001b[37mGET /getmood?input=Yes%20,%20he%20was%20.%20I%27m%20not%20imagining%20it.Finally%20,%20just%20when%20I%20got%20home%20,%20I%20turned%20around%20and%20looked%20at%20him.He%20was%20just%20standing%20there%20.%20He%20didn%27t%20smile%20.%20He%20just%20stood%20there%20.%20It%20was%20so%20obvious.What%20should%20I%20do%20?%20I%27m%20so%20scared%20.%20Can%20I%20call%20the%20police%20? HTTP/1.1\u001b[0m\" 200 -\n"
     ]
    },
    {
     "name": "stdout",
     "output_type": "stream",
     "text": [
      "[\"Yes , he was . I'm not imagining it.Finally , just when I got home , I turned around and looked at him.He was just standing there . He didn't smile . He just stood there . It was so obvious.What should I do ? I'm so scared . Can I call the police ?\"]\n",
      "[[1.1988644e-02 9.8204881e-01 7.8511430e-04 5.1774425e-03]]\n",
      "Fear\n"
     ]
    },
    {
     "name": "stderr",
     "output_type": "stream",
     "text": [
      "127.0.0.1 - - [29/Mar/2022 13:48:56] \"\u001b[37mGET /getmood?input=Yes%20,%20he%20was%20.%20I%27m%20not%20imagining%20it.Finally%20,%20just%20when%20I%20got%20home%20,%20I%20turned%20around%20and%20looked%20at%20him.He%20was%20just%20standing%20there%20.%20He%20didn%27t%20smile%20.%20He%20just%20stood%20there%20.%20It%20was%20so%20obvious.What%20should%20I%20do%20?%20I%27m%20so%20scared%20.%20Can%20I%20call%20the%20police%20? HTTP/1.1\u001b[0m\" 200 -\n"
     ]
    },
    {
     "name": "stdout",
     "output_type": "stream",
     "text": [
      "[\"Yes , he was . I'm not imagining it.Finally , just when I got home , I turned around and looked at him.He was just standing there . He didn't smile . He just stood there . It was so obvious.What should I do ? I'm so scared . Can I call the police ?\"]\n",
      "[[1.1988644e-02 9.8204881e-01 7.8511430e-04 5.1774425e-03]]\n",
      "Fear\n"
     ]
    },
    {
     "name": "stderr",
     "output_type": "stream",
     "text": [
      "127.0.0.1 - - [29/Mar/2022 13:49:34] \"\u001b[37mGET /getmood?input=She%20looked%20a%20little%20less%20resentful%20than%20earlier%20,%20and%20--%20dare%20he%20hope%20it%20?%20--%20even%20slightly%20anxious%20for%20him%20. HTTP/1.1\u001b[0m\" 200 -\n"
     ]
    },
    {
     "name": "stdout",
     "output_type": "stream",
     "text": [
      "['She looked a little less resentful than earlier , and -- dare he hope it ? -- even slightly anxious for him .']\n",
      "[[9.0204441e-04 4.7236733e-02 9.3082005e-01 2.1041097e-02]]\n",
      "Angry\n"
     ]
    },
    {
     "name": "stderr",
     "output_type": "stream",
     "text": [
      "127.0.0.1 - - [29/Mar/2022 13:49:35] \"\u001b[37mGET /getmood?input=She%20looked%20a%20little%20less%20resentful%20than%20earlier%20,%20and%20--%20dare%20he%20hope%20it%20?%20--%20even%20slightly%20anxious%20for%20him%20. HTTP/1.1\u001b[0m\" 200 -\n"
     ]
    },
    {
     "name": "stdout",
     "output_type": "stream",
     "text": [
      "['She looked a little less resentful than earlier , and -- dare he hope it ? -- even slightly anxious for him .']\n",
      "[[9.0204441e-04 4.7236733e-02 9.3082005e-01 2.1041097e-02]]\n",
      "Angry\n"
     ]
    },
    {
     "name": "stderr",
     "output_type": "stream",
     "text": [
      "127.0.0.1 - - [29/Mar/2022 13:56:35] \"\u001b[37mGET /getmood?input=You%20won%20%E2%80%99%20t%20believe%20who%20%E2%80%99%20s%20been%20elected%20to%20do%20overtime%20on%20the%20Baker%20account%20!%20Me%20!%20I%20%E2%80%99%20Ve%20already%20logged%20in%2020%20hours%20of%20overtime%20! HTTP/1.1\u001b[0m\" 200 -\n"
     ]
    },
    {
     "name": "stdout",
     "output_type": "stream",
     "text": [
      "['You won ’ t believe who ’ s been elected to do overtime on the Baker account ! Me ! I ’ Ve already logged in 20 hours of overtime !']\n",
      "[[0.0463168  0.00115485 0.9401953  0.01233311]]\n",
      "Angry\n"
     ]
    },
    {
     "name": "stderr",
     "output_type": "stream",
     "text": [
      "127.0.0.1 - - [29/Mar/2022 13:56:36] \"\u001b[37mGET /getmood?input=You%20won%20%E2%80%99%20t%20believe%20who%20%E2%80%99%20s%20been%20elected%20to%20do%20overtime%20on%20the%20Baker%20account%20!%20Me%20!%20I%20%E2%80%99%20Ve%20already%20logged%20in%2020%20hours%20of%20overtime%20! HTTP/1.1\u001b[0m\" 200 -\n"
     ]
    },
    {
     "name": "stdout",
     "output_type": "stream",
     "text": [
      "['You won ’ t believe who ’ s been elected to do overtime on the Baker account ! Me ! I ’ Ve already logged in 20 hours of overtime !']\n",
      "[[0.0463168  0.00115485 0.9401953  0.01233311]]\n",
      "Angry\n"
     ]
    },
    {
     "name": "stderr",
     "output_type": "stream",
     "text": [
      "127.0.0.1 - - [29/Mar/2022 13:57:07] \"\u001b[37mGET /getmood?input=I%20have%20to%20do%20lot%20of%20reviews%20today HTTP/1.1\u001b[0m\" 200 -\n"
     ]
    },
    {
     "name": "stdout",
     "output_type": "stream",
     "text": [
      "['I have to do lot of reviews today']\n",
      "[[0.10868162 0.03150471 0.04041147 0.8194022 ]]\n",
      "Sad\n"
     ]
    },
    {
     "name": "stderr",
     "output_type": "stream",
     "text": [
      "127.0.0.1 - - [29/Mar/2022 13:57:09] \"\u001b[37mGET /getmood?input=I%20have%20to%20do%20lot%20of%20reviews%20today HTTP/1.1\u001b[0m\" 200 -\n"
     ]
    },
    {
     "name": "stdout",
     "output_type": "stream",
     "text": [
      "['I have to do lot of reviews today']\n",
      "[[0.10868162 0.03150471 0.04041147 0.8194022 ]]\n",
      "Sad\n"
     ]
    }
   ],
   "source": [
    "from flask import Flask, request, jsonify\n",
    "import numpy as np\n",
    "from keras.preprocessing.sequence import pad_sequences\n",
    "import pickle\n",
    "\n",
    "# Max input length (max number of words) \n",
    "max_seq_len = 500\n",
    "\n",
    "class_names = ['Happy', 'Fear', 'Angry', 'Sad']\n",
    "\n",
    "model = pickle.load(open('./text_model.pickle', 'rb'))\n",
    "tokenizer = pickle.load(open('./tokenizer.pickle', 'rb'))\n",
    "\n",
    "app = Flask(__name__)\n",
    "\n",
    "@app.route('/getmood', methods=['GET'])\n",
    "def get_mood():\n",
    "    input = request.args.get('input')\n",
    "    message = [input]\n",
    "    print(message)\n",
    "    # message = ['I am sad']\n",
    "\n",
    "    seq = tokenizer.texts_to_sequences(message)\n",
    "    padded = pad_sequences(seq, maxlen=max_seq_len)\n",
    "    pred = model.predict(padded)\n",
    "\n",
    "    print(pred)\n",
    "\n",
    "    output = class_names[np.argmax(pred)]\n",
    "    data = {\n",
    "        'message': message,\n",
    "        'mood': output\n",
    "    }\n",
    "    print(output)\n",
    "    return jsonify(data)\n",
    "\n",
    "if __name__ == '__main__':\n",
    "    app.run()"
   ]
  },
  {
   "cell_type": "code",
   "execution_count": null,
   "metadata": {},
   "outputs": [],
   "source": []
  }
 ],
 "metadata": {
  "interpreter": {
   "hash": "064fe580e3281ace04e06093ecd9385f58decb94618ce3488113ad309f76f1d0"
  },
  "kernelspec": {
   "display_name": "Python 3.7.11 ('machine_learning')",
   "language": "python",
   "name": "python3"
  },
  "language_info": {
   "codemirror_mode": {
    "name": "ipython",
    "version": 3
   },
   "file_extension": ".py",
   "mimetype": "text/x-python",
   "name": "python",
   "nbconvert_exporter": "python",
   "pygments_lexer": "ipython3",
   "version": "3.7.11"
  },
  "orig_nbformat": 4
 },
 "nbformat": 4,
 "nbformat_minor": 2
}
